{
 "cells": [
  {
   "cell_type": "code",
   "execution_count": 1,
   "metadata": {},
   "outputs": [],
   "source": [
    "import os \n",
    "import re\n",
    "import json\n",
    "import argparse\n",
    "from collections import Counter "
   ]
  },
  {
   "cell_type": "code",
   "execution_count": 14,
   "metadata": {},
   "outputs": [],
   "source": [
    "def extract_winner(res):\n",
    "    '''\n",
    "    extract text between the tag <winner></winner>\n",
    "    '''\n",
    "\n",
    "    score_match = re.search(r'<score>(.*?)</score>', res, re.DOTALL)\n",
    "    if score_match:\n",
    "        score_text = score_match.group(1)\n",
    "        print('Score text:', score_text)\n",
    "        # Extract scores for Story A and Story B using regex\n",
    "        story_a_score = re.search(r'Story A:\\s*(\\d+)', score_text)\n",
    "        story_b_score = re.search(r'Story B:\\s*(\\d+)', score_text)\n",
    "\n",
    "        print('Story A:', story_a_score)\n",
    "        print('Story B:', story_b_score)\n",
    "        \n",
    "        if story_a_score and story_b_score:\n",
    "            score_a = int(story_a_score.group(1).strip())\n",
    "            score_b = int(story_b_score.group(1).strip())\n",
    "\n",
    "            if score_a > score_b:\n",
    "                winner = 'A'\n",
    "            elif score_a < score_b:\n",
    "                winner = 'B'\n",
    "            else:\n",
    "                winner = 'Tie'\n",
    "        \n",
    "            return winner\n",
    "\n",
    "        else:\n",
    "            return None\n",
    "    else:\n",
    "        return None"
   ]
  },
  {
   "cell_type": "code",
   "execution_count": 13,
   "metadata": {},
   "outputs": [],
   "source": [
    "res = \"<thinking>\\nTo evaluate both stories based on the category of \\\"Narrative Structure,\\\" as defined in the User Writing Sheet, I will examine the following elements:\\n\\n1. **Clarity and Cohesiveness of the Structure**: Both stories need a clear beginning, middle, and end. Events should follow logically and seamlessly, with character actions and interactions driving the narrative forward.\\n2. **Transition Between Scenes**: Transitions between different scenes and events should be smooth, enhancing the flow of the story rather than disrupting it.\\n3. **Connection Between Elements**: The individual elements should be interconnected, creating a sense of continuity and progression throughout the narrative.\\n\\n### Story A Evaluation\\n- **Beginning**: Story A effectively begins with setting a peaceful and mundane scene of Harold's retired life, which is disrupted by a phone call about his grandson's disappearance. This transition from tranquility to urgency sets the tone and stakes of the narrative well.\\n- **Middle**: The story progresses with Harold's transformation back into The Obsidian Shadow and his journey to rescue his grandson. The series of events, including finding clues and confronting the antagonist, are coherent and logically connected.\\n- **End**: The story concludes with a resolution where Harold defeats the antagonist and rescues Jacob. The ending ties back to the initial motivation (protecting his family) and offers a satisfying resolution with Harold reaffirming his commitment to his family.\\n\\n### Story B Evaluation\\n- **Beginning**: Story B also starts by establishing Harold's peaceful retired life, interrupted by his daughter's arrival with a letter demanding the plans for the Omega Device. This setup effectively introduces the main conflict.\\n- **Middle**: The narrative follows Harold's re-adoption of his villain persona, detailed through the revival of his old lair and his infiltration into the Syndicate's headquarters. The progression is logical and events are clearly connected.\\n- **End**: The confrontation with The Broker and the subsequent rescue of his family provide a strong resolution. The narrative ends with Harold returning to his peaceful life, reinforcing the story's theme of family over past villainy.\\n\\n### Comparison and Reasoning\\nBoth stories exhibit clear and cohesive narrative structures with well-defined beginnings, middles, and ends. Each story transitions smoothly between scenes and maintains a logical progression of events, effectively connecting the elements of the narrative. However, there are slight differences in the depth of depiction and seamlessness of transitions.\\n\\n- **Story A**: The narrative is clear and well-paced, with smooth transitions and detailed character interactions. It strongly aligns with the user's preference for a clear and cohesive structure, providing well-connected scenes that build logically towards the resolution.\\n- **Story B**: The structure is also clear and logical, with well-defined transitions and connections between events. The depiction of Harold's return to his villainous ways and the infiltration scenes are particularly well-executed, aligning closely with the user's preferences.\\n\\nGiven these observations, both stories align quite well with the user's preferences in terms of narrative structure. However, Story A slightly edges out Story B due to more vivid and detailed action sequences and smoother transitions, making the narrative feel slightly more seamless.\\n\\n</thinking>\\n\\n<score>\\nStory A: 5\\nStory B: 4\\n</score>\""
   ]
  },
  {
   "cell_type": "code",
   "execution_count": 15,
   "metadata": {},
   "outputs": [
    {
     "name": "stdout",
     "output_type": "stream",
     "text": [
      "Score text: \n",
      "Story A: 5\n",
      "Story B: 4\n",
      "\n",
      "Story A: <re.Match object; span=(1, 11), match='Story A: 5'>\n",
      "Story B: <re.Match object; span=(12, 22), match='Story B: 4'>\n"
     ]
    },
    {
     "data": {
      "text/plain": [
       "'A'"
      ]
     },
     "execution_count": 15,
     "metadata": {},
     "output_type": "execute_result"
    }
   ],
   "source": [
    "extract_winner(res)"
   ]
  }
 ],
 "metadata": {
  "kernelspec": {
   "display_name": "nistorch",
   "language": "python",
   "name": "python3"
  },
  "language_info": {
   "codemirror_mode": {
    "name": "ipython",
    "version": 3
   },
   "file_extension": ".py",
   "mimetype": "text/x-python",
   "name": "python",
   "nbconvert_exporter": "python",
   "pygments_lexer": "ipython3",
   "version": "3.12.2"
  }
 },
 "nbformat": 4,
 "nbformat_minor": 2
}
